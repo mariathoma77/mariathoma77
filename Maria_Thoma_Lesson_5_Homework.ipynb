{
  "nbformat": 4,
  "nbformat_minor": 0,
  "metadata": {
    "kernelspec": {
      "display_name": "Python 3",
      "language": "python",
      "name": "python3"
    },
    "language_info": {
      "codemirror_mode": {
        "name": "ipython",
        "version": 3
      },
      "file_extension": ".py",
      "mimetype": "text/x-python",
      "name": "python",
      "nbconvert_exporter": "python",
      "pygments_lexer": "ipython3",
      "version": "3.7.0"
    },
    "colab": {
      "provenance": [],
      "collapsed_sections": [],
      "include_colab_link": true
    }
  },
  "cells": [
    {
      "cell_type": "markdown",
      "metadata": {
        "id": "view-in-github",
        "colab_type": "text"
      },
      "source": [
        "<a href=\"https://colab.research.google.com/github/mariathoma77/mariathoma77/blob/main/Maria_Thoma_Lesson_5_Homework.ipynb\" target=\"_parent\"><img src=\"https://colab.research.google.com/assets/colab-badge.svg\" alt=\"Open In Colab\"/></a>"
      ]
    },
    {
      "cell_type": "markdown",
      "metadata": {
        "id": "AT4fPM0PIH8S"
      },
      "source": [
        "# Homework Lesson 5: strings, lists and dictionaries \n"
      ]
    },
    {
      "cell_type": "markdown",
      "source": [
        "# Part 1"
      ],
      "metadata": {
        "id": "ZrYN36gwTRhG"
      }
    },
    {
      "cell_type": "markdown",
      "source": [
        "1. Create a variable ```x = \"I am a great student at Redi\"```"
      ],
      "metadata": {
        "id": "fSsdfyeFS7uM"
      }
    },
    {
      "cell_type": "code",
      "metadata": {
        "id": "2ZBwe_C4IH8X"
      },
      "source": [
        "x = \"I am a great student at Redi\"\n"
      ],
      "execution_count": 3,
      "outputs": []
    },
    {
      "cell_type": "markdown",
      "source": [
        "2. Find the first occurance of \"a\" using ```.find()``` method and replace all \"a\" with \"o\" using the ```.replace()``` method"
      ],
      "metadata": {
        "id": "y0QVF-m4TA9H"
      }
    },
    {
      "cell_type": "code",
      "source": [
        "x.find(\"a\")\n",
        "x.replace(\"a\", \"o\")"
      ],
      "metadata": {
        "id": "-Or_JQQPTBHY",
        "colab": {
          "base_uri": "https://localhost:8080/",
          "height": 35
        },
        "outputId": "966fe1a9-5db5-47d3-df74-405e2a555e89"
      },
      "execution_count": 5,
      "outputs": [
        {
          "output_type": "execute_result",
          "data": {
            "text/plain": [
              "'I om o greot student ot Redi'"
            ],
            "application/vnd.google.colaboratory.intrinsic+json": {
              "type": "string"
            }
          },
          "metadata": {},
          "execution_count": 5
        }
      ]
    },
    {
      "cell_type": "markdown",
      "source": [
        "3. slice the string from the left side using square brackets to print only letters from the index position 5 onwards"
      ],
      "metadata": {
        "id": "4T9EkowPTE1C"
      }
    },
    {
      "cell_type": "code",
      "source": [
        "len(x)\n",
        "tx = len(x)\n",
        "print(tx)\n",
        "print(x[5:tx])\n",
        "\n",
        "\n",
        "      \n"
      ],
      "metadata": {
        "id": "7i4VE9qXTE_B",
        "colab": {
          "base_uri": "https://localhost:8080/"
        },
        "outputId": "4d23c51e-5690-4a37-f13f-8ab28e2e7246"
      },
      "execution_count": 17,
      "outputs": [
        {
          "output_type": "stream",
          "name": "stdout",
          "text": [
            "28\n",
            "a great student at Redi\n"
          ]
        }
      ]
    },
    {
      "cell_type": "markdown",
      "source": [
        "4. Print the length of the string using ```len()``` function"
      ],
      "metadata": {
        "id": "F7PmqAkNTGgI"
      }
    },
    {
      "cell_type": "code",
      "source": [
        "len(x)\n"
      ],
      "metadata": {
        "id": "TPQlnquuTGrq",
        "colab": {
          "base_uri": "https://localhost:8080/"
        },
        "outputId": "26cc4e2c-98be-418f-80e3-9f14b77f74cb"
      },
      "execution_count": 10,
      "outputs": [
        {
          "output_type": "execute_result",
          "data": {
            "text/plain": [
              "28"
            ]
          },
          "metadata": {},
          "execution_count": 10
        }
      ]
    },
    {
      "cell_type": "markdown",
      "source": [
        "# Part 2"
      ],
      "metadata": {
        "id": "KGtV-yj-TQn0"
      }
    },
    {
      "cell_type": "markdown",
      "metadata": {
        "id": "82SPYQR4IH8X"
      },
      "source": [
        "Create a dictionary with the key values your name, your hobbies and your hometown like so:\n",
        "\n",
        "```\n",
        "me = {\n",
        "    'name': 'Felix',\n",
        "    'hobbies': ['running', 'paining', 'writing'],\n",
        "    'hometown': 'Erlangen'\n",
        "}\n",
        "```"
      ]
    },
    {
      "cell_type": "code",
      "source": [
        "me = {\n",
        "    \"name\": \"Maria\",\n",
        "    \"hobbies\": [\"gardening\", \"theather\", \"baking\"],\n",
        "    \"hometown\": \"Saint-Petersburg\"\n",
        "}\n",
        "print(me)\n"
      ],
      "metadata": {
        "id": "dPukuWMEUA_x",
        "colab": {
          "base_uri": "https://localhost:8080/"
        },
        "outputId": "74ea41c2-c076-480d-e215-1dc8cb6b0603"
      },
      "execution_count": 19,
      "outputs": [
        {
          "output_type": "stream",
          "name": "stdout",
          "text": [
            "{'name': 'Maria', 'hobbies': ['gardening', 'theather', 'baking'], 'hometown': 'Saint-Petersburg'}\n"
          ]
        }
      ]
    },
    {
      "cell_type": "markdown",
      "source": [
        "2. Add another key ```'surname'``` and value \\<your surname\\> to your dictionary. Print your dictionary to check if it is added."
      ],
      "metadata": {
        "id": "yzhzEhJQTVjQ"
      }
    },
    {
      "cell_type": "code",
      "source": [
        "me[\"surname\"] = \"Thoma\"\n",
        "print(me)\n",
        "\n"
      ],
      "metadata": {
        "id": "cvJJcriUTQyn",
        "colab": {
          "base_uri": "https://localhost:8080/"
        },
        "outputId": "c422f4b2-4ca2-4e07-ad76-fefb43ac77d6"
      },
      "execution_count": 20,
      "outputs": [
        {
          "output_type": "stream",
          "name": "stdout",
          "text": [
            "{'name': 'Maria', 'hobbies': ['gardening', 'theather', 'baking'], 'hometown': 'Saint-Petersburg', 'surname': 'Thoma'}\n"
          ]
        }
      ]
    },
    {
      "cell_type": "markdown",
      "source": [
        "3. Add another key ```'skills'``` with the value of list ```['running', 'painting', 'writing']```"
      ],
      "metadata": {
        "id": "EBD0ZXwCTdMz"
      }
    },
    {
      "cell_type": "code",
      "source": [
        "me[\"skills\"] = [\"running\", \"painting\", 'writing']\n",
        "print(me)\n",
        "\n"
      ],
      "metadata": {
        "id": "-SuDToIMTdX-",
        "colab": {
          "base_uri": "https://localhost:8080/"
        },
        "outputId": "c586ffc1-bf0c-43e1-fa31-99e8afc97d10"
      },
      "execution_count": 21,
      "outputs": [
        {
          "output_type": "stream",
          "name": "stdout",
          "text": [
            "{'name': 'Maria', 'hobbies': ['gardening', 'theather', 'baking'], 'hometown': 'Saint-Petersburg', 'surname': 'Thoma', 'skills': ['running', 'painting', 'writing']}\n"
          ]
        }
      ]
    },
    {
      "cell_type": "markdown",
      "source": [
        "4. Append one more skill of yours to this list.\n",
        "\n",
        "For example ```['running', 'painting', 'writing']``` could be extended to ```['running', 'painting', 'writing', 'coding']```"
      ],
      "metadata": {
        "id": "uCF2v4vNThFM"
      }
    },
    {
      "cell_type": "code",
      "source": [
        "me[\"skills\"] = [\"running\", 'painting', \"writing\", \"coding\"]\n",
        "print(me)\n"
      ],
      "metadata": {
        "id": "SHS5dzMAThP0",
        "colab": {
          "base_uri": "https://localhost:8080/"
        },
        "outputId": "b2c39bb2-5127-41d4-b1aa-00cc2a112dd6"
      },
      "execution_count": 22,
      "outputs": [
        {
          "output_type": "stream",
          "name": "stdout",
          "text": [
            "{'name': 'Maria', 'hobbies': ['gardening', 'theather', 'baking'], 'hometown': 'Saint-Petersburg', 'surname': 'Thoma', 'skills': ['running', 'painting', 'writing', 'coding']}\n"
          ]
        }
      ]
    },
    {
      "cell_type": "markdown",
      "source": [
        "5. Sort this list inside the dictionary. Print your dictionary to see if the changes have been made. "
      ],
      "metadata": {
        "id": "9kKmPc3mTiiA"
      }
    },
    {
      "cell_type": "code",
      "source": [
        "me[\"skills\"].sort()\n",
        "print(me)\n"
      ],
      "metadata": {
        "id": "GUxg2El-TisZ",
        "colab": {
          "base_uri": "https://localhost:8080/"
        },
        "outputId": "faad4ea6-2c52-4640-d030-327594c3baae"
      },
      "execution_count": 24,
      "outputs": [
        {
          "output_type": "stream",
          "name": "stdout",
          "text": [
            "{'name': 'Maria', 'hobbies': ['gardening', 'theather', 'baking'], 'hometown': 'Saint-Petersburg', 'surname': 'Thoma', 'skills': ['coding', 'painting', 'running', 'writing']}\n"
          ]
        }
      ]
    },
    {
      "cell_type": "markdown",
      "source": [
        "6. Remove the key-value pair with the key ```'running'``` from the list."
      ],
      "metadata": {
        "id": "IVBk866_Tlc7"
      }
    },
    {
      "cell_type": "code",
      "source": [
        "del me [\"skills\"] \n",
        "print(me)\n"
      ],
      "metadata": {
        "id": "jjbAi5gjTl1J",
        "colab": {
          "base_uri": "https://localhost:8080/"
        },
        "outputId": "d4a06929-a8af-49c2-ed8c-10d933e94a1a"
      },
      "execution_count": 25,
      "outputs": [
        {
          "output_type": "stream",
          "name": "stdout",
          "text": [
            "{'name': 'Maria', 'hobbies': ['gardening', 'theather', 'baking'], 'hometown': 'Saint-Petersburg', 'surname': 'Thoma'}\n"
          ]
        }
      ]
    },
    {
      "cell_type": "markdown",
      "source": [
        "7. Remove your hometown from the dictionary. Print your dictionary."
      ],
      "metadata": {
        "id": "thZF3JCtToZC"
      }
    },
    {
      "cell_type": "code",
      "source": [
        "me[\"hometown\"].remove(\"Saint-Petersburg\")\n",
        "print(me)\n"
      ],
      "metadata": {
        "id": "4grBdgAdTokI",
        "colab": {
          "base_uri": "https://localhost:8080/",
          "height": 183
        },
        "outputId": "c2af42f8-e962-4f3c-9e49-10fb624ca3f6"
      },
      "execution_count": 27,
      "outputs": [
        {
          "output_type": "error",
          "ename": "AttributeError",
          "evalue": "ignored",
          "traceback": [
            "\u001b[0;31m---------------------------------------------------------------------------\u001b[0m",
            "\u001b[0;31mAttributeError\u001b[0m                            Traceback (most recent call last)",
            "\u001b[0;32m<ipython-input-27-124ba16c2532>\u001b[0m in \u001b[0;36m<module>\u001b[0;34m\u001b[0m\n\u001b[0;32m----> 1\u001b[0;31m \u001b[0mme\u001b[0m\u001b[0;34m[\u001b[0m\u001b[0;34m\"hometown\"\u001b[0m\u001b[0;34m]\u001b[0m\u001b[0;34m.\u001b[0m\u001b[0mremove\u001b[0m\u001b[0;34m(\u001b[0m\u001b[0;34m\"Saint-Petersburg\"\u001b[0m\u001b[0;34m)\u001b[0m\u001b[0;34m\u001b[0m\u001b[0;34m\u001b[0m\u001b[0m\n\u001b[0m\u001b[1;32m      2\u001b[0m \u001b[0mprint\u001b[0m\u001b[0;34m(\u001b[0m\u001b[0mme\u001b[0m\u001b[0;34m)\u001b[0m\u001b[0;34m\u001b[0m\u001b[0;34m\u001b[0m\u001b[0m\n",
            "\u001b[0;31mAttributeError\u001b[0m: 'str' object has no attribute 'remove'"
          ]
        }
      ]
    }
  ]
}